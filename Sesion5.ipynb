{
 "cells": [
  {
   "cell_type": "code",
   "execution_count": 6,
   "metadata": {},
   "outputs": [
    {
     "name": "stdout",
     "output_type": "stream",
     "text": [
      "   Nombre     Ciudad  Ingreso  Edad Género Nivel educativo  \\\n",
      "0  Miguel  Cartagena  1632601    63      F    Bachillerato   \n",
      "1   Lucia       Cali  2478095    21      F    Bachillerato   \n",
      "2   Pedro   Medellín  3952242    51      M    Bachillerato   \n",
      "3   Lucia       Cali  4318314    58      F   Universitario   \n",
      "4   Lucia   Medellín  3223645    18      M         Técnico   \n",
      "\n",
      "   Condición de pobreza  Recibe subsidios  \n",
      "0                     0                 0  \n",
      "1                     1                 1  \n",
      "2                     1                 1  \n",
      "3                     0                 0  \n",
      "4                     0                 0  \n"
     ]
    }
   ],
   "source": [
    "#Codigo sesion5\n",
    "#Importacion de archivos\n",
    "#formato de excel\n",
    "import pandas as pd\n",
    "# Lee el archivo Excel\n",
    "df1 = pd.read_excel('base_de_datos.xlsx')\n",
    "# Muestra el contenido del dataframe\n",
    "df1\n",
    "\n"
   ]
  },
  {
   "cell_type": "code",
   "execution_count": 7,
   "metadata": {},
   "outputs": [
    {
     "name": "stdout",
     "output_type": "stream",
     "text": [
      "  Nombre             Ciudad  Ingreso  Edad Genero Nivel educativo  Pobreza  \\\n",
      "0   Juan             Bilbao     1992    67      F    Licenciatura        0   \n",
      "1   Jose  Palma de Mallorca     1029    52      M    Bachillerato        1   \n",
      "2  Laura         Las Palmas     1786    52      M    Licenciatura        1   \n",
      "3   Luis            Sevilla     3207    38      F    Bachillerato        1   \n",
      "4   Juan            Sevilla     1421    28      M    Licenciatura        1   \n",
      "\n",
      "   Subsidio  \n",
      "0         0  \n",
      "1         1  \n",
      "2         1  \n",
      "3         1  \n",
      "4         0  \n"
     ]
    }
   ],
   "source": [
    "#formato de csv\n",
    "import pandas as pd\n",
    "# Lee el archivo de csv\n",
    "df2 = pd.read_csv('datos.csv')\n",
    "# Muestra el contenido del dataframe\n",
    "df2"
   ]
  },
  {
   "cell_type": "code",
   "execution_count": 28,
   "metadata": {},
   "outputs": [
    {
     "data": {
      "text/html": [
       "<div>\n",
       "<style scoped>\n",
       "    .dataframe tbody tr th:only-of-type {\n",
       "        vertical-align: middle;\n",
       "    }\n",
       "\n",
       "    .dataframe tbody tr th {\n",
       "        vertical-align: top;\n",
       "    }\n",
       "\n",
       "    .dataframe thead th {\n",
       "        text-align: right;\n",
       "    }\n",
       "</style>\n",
       "<table border=\"1\" class=\"dataframe\">\n",
       "  <thead>\n",
       "    <tr style=\"text-align: right;\">\n",
       "      <th></th>\n",
       "      <th>nombre</th>\n",
       "      <th>ciudad</th>\n",
       "      <th>ingreso</th>\n",
       "      <th>edad</th>\n",
       "      <th>genero</th>\n",
       "      <th>nivel_educativo</th>\n",
       "      <th>pobreza</th>\n",
       "      <th>subsidio</th>\n",
       "    </tr>\n",
       "  </thead>\n",
       "  <tbody>\n",
       "    <tr>\n",
       "      <th>0</th>\n",
       "      <td>Nombre 1</td>\n",
       "      <td>Ciudad A</td>\n",
       "      <td>4320</td>\n",
       "      <td>57</td>\n",
       "      <td>M</td>\n",
       "      <td>Secundaria</td>\n",
       "      <td>1</td>\n",
       "      <td>1</td>\n",
       "    </tr>\n",
       "    <tr>\n",
       "      <th>1</th>\n",
       "      <td>Nombre 2</td>\n",
       "      <td>Ciudad C</td>\n",
       "      <td>1358</td>\n",
       "      <td>22</td>\n",
       "      <td>F</td>\n",
       "      <td>Universidad</td>\n",
       "      <td>1</td>\n",
       "      <td>1</td>\n",
       "    </tr>\n",
       "    <tr>\n",
       "      <th>2</th>\n",
       "      <td>Nombre 3</td>\n",
       "      <td>Ciudad C</td>\n",
       "      <td>3500</td>\n",
       "      <td>21</td>\n",
       "      <td>M</td>\n",
       "      <td>Secundaria</td>\n",
       "      <td>0</td>\n",
       "      <td>1</td>\n",
       "    </tr>\n",
       "    <tr>\n",
       "      <th>3</th>\n",
       "      <td>Nombre 4</td>\n",
       "      <td>Ciudad C</td>\n",
       "      <td>3895</td>\n",
       "      <td>51</td>\n",
       "      <td>F</td>\n",
       "      <td>Primaria</td>\n",
       "      <td>1</td>\n",
       "      <td>0</td>\n",
       "    </tr>\n",
       "    <tr>\n",
       "      <th>4</th>\n",
       "      <td>Nombre 5</td>\n",
       "      <td>Ciudad A</td>\n",
       "      <td>874</td>\n",
       "      <td>60</td>\n",
       "      <td>M</td>\n",
       "      <td>Universidad</td>\n",
       "      <td>1</td>\n",
       "      <td>1</td>\n",
       "    </tr>\n",
       "    <tr>\n",
       "      <th>...</th>\n",
       "      <td>...</td>\n",
       "      <td>...</td>\n",
       "      <td>...</td>\n",
       "      <td>...</td>\n",
       "      <td>...</td>\n",
       "      <td>...</td>\n",
       "      <td>...</td>\n",
       "      <td>...</td>\n",
       "    </tr>\n",
       "    <tr>\n",
       "      <th>9995</th>\n",
       "      <td>Nombre 9996</td>\n",
       "      <td>Ciudad A</td>\n",
       "      <td>536</td>\n",
       "      <td>62</td>\n",
       "      <td>F</td>\n",
       "      <td>Secundaria</td>\n",
       "      <td>1</td>\n",
       "      <td>1</td>\n",
       "    </tr>\n",
       "    <tr>\n",
       "      <th>9996</th>\n",
       "      <td>Nombre 9997</td>\n",
       "      <td>Ciudad A</td>\n",
       "      <td>4761</td>\n",
       "      <td>40</td>\n",
       "      <td>M</td>\n",
       "      <td>Secundaria</td>\n",
       "      <td>1</td>\n",
       "      <td>0</td>\n",
       "    </tr>\n",
       "    <tr>\n",
       "      <th>9997</th>\n",
       "      <td>Nombre 9998</td>\n",
       "      <td>Ciudad B</td>\n",
       "      <td>1872</td>\n",
       "      <td>23</td>\n",
       "      <td>M</td>\n",
       "      <td>Universidad</td>\n",
       "      <td>1</td>\n",
       "      <td>1</td>\n",
       "    </tr>\n",
       "    <tr>\n",
       "      <th>9998</th>\n",
       "      <td>Nombre 9999</td>\n",
       "      <td>Ciudad A</td>\n",
       "      <td>660</td>\n",
       "      <td>48</td>\n",
       "      <td>M</td>\n",
       "      <td>Primaria</td>\n",
       "      <td>1</td>\n",
       "      <td>1</td>\n",
       "    </tr>\n",
       "    <tr>\n",
       "      <th>9999</th>\n",
       "      <td>Nombre 10000</td>\n",
       "      <td>Ciudad A</td>\n",
       "      <td>3114</td>\n",
       "      <td>21</td>\n",
       "      <td>F</td>\n",
       "      <td>Universidad</td>\n",
       "      <td>1</td>\n",
       "      <td>0</td>\n",
       "    </tr>\n",
       "  </tbody>\n",
       "</table>\n",
       "<p>10000 rows × 8 columns</p>\n",
       "</div>"
      ],
      "text/plain": [
       "            nombre    ciudad  ingreso  edad genero nivel_educativo  pobreza  \\\n",
       "0         Nombre 1  Ciudad A     4320    57      M      Secundaria        1   \n",
       "1         Nombre 2  Ciudad C     1358    22      F     Universidad        1   \n",
       "2         Nombre 3  Ciudad C     3500    21      M      Secundaria        0   \n",
       "3         Nombre 4  Ciudad C     3895    51      F        Primaria        1   \n",
       "4         Nombre 5  Ciudad A      874    60      M     Universidad        1   \n",
       "...            ...       ...      ...   ...    ...             ...      ...   \n",
       "9995   Nombre 9996  Ciudad A      536    62      F      Secundaria        1   \n",
       "9996   Nombre 9997  Ciudad A     4761    40      M      Secundaria        1   \n",
       "9997   Nombre 9998  Ciudad B     1872    23      M     Universidad        1   \n",
       "9998   Nombre 9999  Ciudad A      660    48      M        Primaria        1   \n",
       "9999  Nombre 10000  Ciudad A     3114    21      F     Universidad        1   \n",
       "\n",
       "      subsidio  \n",
       "0            1  \n",
       "1            1  \n",
       "2            1  \n",
       "3            0  \n",
       "4            1  \n",
       "...        ...  \n",
       "9995         1  \n",
       "9996         0  \n",
       "9997         1  \n",
       "9998         1  \n",
       "9999         0  \n",
       "\n",
       "[10000 rows x 8 columns]"
      ]
     },
     "execution_count": 28,
     "metadata": {},
     "output_type": "execute_result"
    }
   ],
   "source": [
    "#dta\n",
    "import pandas as pd\n",
    "# Importar el archivo a un dataframe\n",
    "df3 = pd.read_stata('datos.dta')\n",
    "# Mostrar los primeros registros del dataframe\n",
    "df3\n"
   ]
  },
  {
   "cell_type": "code",
   "execution_count": 17,
   "metadata": {},
   "outputs": [
    {
     "data": {
      "text/html": [
       "<div>\n",
       "<style scoped>\n",
       "    .dataframe tbody tr th:only-of-type {\n",
       "        vertical-align: middle;\n",
       "    }\n",
       "\n",
       "    .dataframe tbody tr th {\n",
       "        vertical-align: top;\n",
       "    }\n",
       "\n",
       "    .dataframe thead th {\n",
       "        text-align: right;\n",
       "    }\n",
       "</style>\n",
       "<table border=\"1\" class=\"dataframe\">\n",
       "  <thead>\n",
       "    <tr style=\"text-align: right;\">\n",
       "      <th></th>\n",
       "      <th>nombre</th>\n",
       "      <th>ciudad</th>\n",
       "      <th>ingreso</th>\n",
       "      <th>edad</th>\n",
       "      <th>genero</th>\n",
       "      <th>nivel_educativo</th>\n",
       "      <th>pobreza</th>\n",
       "      <th>subsidio</th>\n",
       "    </tr>\n",
       "  </thead>\n",
       "  <tbody>\n",
       "    <tr>\n",
       "      <th>0</th>\n",
       "      <td>Nombre 1</td>\n",
       "      <td>Ciudad A</td>\n",
       "      <td>4320</td>\n",
       "      <td>57</td>\n",
       "      <td>M</td>\n",
       "      <td>Secundaria</td>\n",
       "      <td>1</td>\n",
       "      <td>1</td>\n",
       "    </tr>\n",
       "    <tr>\n",
       "      <th>1</th>\n",
       "      <td>Nombre 2</td>\n",
       "      <td>Ciudad C</td>\n",
       "      <td>1358</td>\n",
       "      <td>22</td>\n",
       "      <td>F</td>\n",
       "      <td>Universidad</td>\n",
       "      <td>1</td>\n",
       "      <td>1</td>\n",
       "    </tr>\n",
       "    <tr>\n",
       "      <th>2</th>\n",
       "      <td>Nombre 3</td>\n",
       "      <td>Ciudad C</td>\n",
       "      <td>3500</td>\n",
       "      <td>21</td>\n",
       "      <td>M</td>\n",
       "      <td>Secundaria</td>\n",
       "      <td>0</td>\n",
       "      <td>1</td>\n",
       "    </tr>\n",
       "    <tr>\n",
       "      <th>3</th>\n",
       "      <td>Nombre 4</td>\n",
       "      <td>Ciudad C</td>\n",
       "      <td>3895</td>\n",
       "      <td>51</td>\n",
       "      <td>F</td>\n",
       "      <td>Primaria</td>\n",
       "      <td>1</td>\n",
       "      <td>0</td>\n",
       "    </tr>\n",
       "    <tr>\n",
       "      <th>4</th>\n",
       "      <td>Nombre 5</td>\n",
       "      <td>Ciudad A</td>\n",
       "      <td>874</td>\n",
       "      <td>60</td>\n",
       "      <td>M</td>\n",
       "      <td>Universidad</td>\n",
       "      <td>1</td>\n",
       "      <td>1</td>\n",
       "    </tr>\n",
       "  </tbody>\n",
       "</table>\n",
       "</div>"
      ],
      "text/plain": [
       "     nombre    ciudad  ingreso  edad genero nivel_educativo  pobreza  subsidio\n",
       "0  Nombre 1  Ciudad A     4320    57      M      Secundaria        1         1\n",
       "1  Nombre 2  Ciudad C     1358    22      F     Universidad        1         1\n",
       "2  Nombre 3  Ciudad C     3500    21      M      Secundaria        0         1\n",
       "3  Nombre 4  Ciudad C     3895    51      F        Primaria        1         0\n",
       "4  Nombre 5  Ciudad A      874    60      M     Universidad        1         1"
      ]
     },
     "execution_count": 17,
     "metadata": {},
     "output_type": "execute_result"
    }
   ],
   "source": [
    "#Diferentes formas de mostrar el dataframe\n",
    "#Mostrar las primeras 5 filas del dataframe\n",
    "df3.head()\n"
   ]
  },
  {
   "cell_type": "code",
   "execution_count": 18,
   "metadata": {},
   "outputs": [
    {
     "data": {
      "text/html": [
       "<div>\n",
       "<style scoped>\n",
       "    .dataframe tbody tr th:only-of-type {\n",
       "        vertical-align: middle;\n",
       "    }\n",
       "\n",
       "    .dataframe tbody tr th {\n",
       "        vertical-align: top;\n",
       "    }\n",
       "\n",
       "    .dataframe thead th {\n",
       "        text-align: right;\n",
       "    }\n",
       "</style>\n",
       "<table border=\"1\" class=\"dataframe\">\n",
       "  <thead>\n",
       "    <tr style=\"text-align: right;\">\n",
       "      <th></th>\n",
       "      <th>nombre</th>\n",
       "      <th>ciudad</th>\n",
       "      <th>ingreso</th>\n",
       "      <th>edad</th>\n",
       "      <th>genero</th>\n",
       "      <th>nivel_educativo</th>\n",
       "      <th>pobreza</th>\n",
       "      <th>subsidio</th>\n",
       "    </tr>\n",
       "  </thead>\n",
       "  <tbody>\n",
       "    <tr>\n",
       "      <th>9995</th>\n",
       "      <td>Nombre 9996</td>\n",
       "      <td>Ciudad A</td>\n",
       "      <td>536</td>\n",
       "      <td>62</td>\n",
       "      <td>F</td>\n",
       "      <td>Secundaria</td>\n",
       "      <td>1</td>\n",
       "      <td>1</td>\n",
       "    </tr>\n",
       "    <tr>\n",
       "      <th>9996</th>\n",
       "      <td>Nombre 9997</td>\n",
       "      <td>Ciudad A</td>\n",
       "      <td>4761</td>\n",
       "      <td>40</td>\n",
       "      <td>M</td>\n",
       "      <td>Secundaria</td>\n",
       "      <td>1</td>\n",
       "      <td>0</td>\n",
       "    </tr>\n",
       "    <tr>\n",
       "      <th>9997</th>\n",
       "      <td>Nombre 9998</td>\n",
       "      <td>Ciudad B</td>\n",
       "      <td>1872</td>\n",
       "      <td>23</td>\n",
       "      <td>M</td>\n",
       "      <td>Universidad</td>\n",
       "      <td>1</td>\n",
       "      <td>1</td>\n",
       "    </tr>\n",
       "    <tr>\n",
       "      <th>9998</th>\n",
       "      <td>Nombre 9999</td>\n",
       "      <td>Ciudad A</td>\n",
       "      <td>660</td>\n",
       "      <td>48</td>\n",
       "      <td>M</td>\n",
       "      <td>Primaria</td>\n",
       "      <td>1</td>\n",
       "      <td>1</td>\n",
       "    </tr>\n",
       "    <tr>\n",
       "      <th>9999</th>\n",
       "      <td>Nombre 10000</td>\n",
       "      <td>Ciudad A</td>\n",
       "      <td>3114</td>\n",
       "      <td>21</td>\n",
       "      <td>F</td>\n",
       "      <td>Universidad</td>\n",
       "      <td>1</td>\n",
       "      <td>0</td>\n",
       "    </tr>\n",
       "  </tbody>\n",
       "</table>\n",
       "</div>"
      ],
      "text/plain": [
       "            nombre    ciudad  ingreso  edad genero nivel_educativo  pobreza  \\\n",
       "9995   Nombre 9996  Ciudad A      536    62      F      Secundaria        1   \n",
       "9996   Nombre 9997  Ciudad A     4761    40      M      Secundaria        1   \n",
       "9997   Nombre 9998  Ciudad B     1872    23      M     Universidad        1   \n",
       "9998   Nombre 9999  Ciudad A      660    48      M        Primaria        1   \n",
       "9999  Nombre 10000  Ciudad A     3114    21      F     Universidad        1   \n",
       "\n",
       "      subsidio  \n",
       "9995         1  \n",
       "9996         0  \n",
       "9997         1  \n",
       "9998         1  \n",
       "9999         0  "
      ]
     },
     "execution_count": 18,
     "metadata": {},
     "output_type": "execute_result"
    }
   ],
   "source": [
    "#Mostrar las ultimas filas del dtaframe\n",
    "df3.tail()"
   ]
  },
  {
   "cell_type": "code",
   "execution_count": 30,
   "metadata": {},
   "outputs": [
    {
     "data": {
      "text/plain": [
       "0       4320\n",
       "1       1358\n",
       "2       3500\n",
       "3       3895\n",
       "4        874\n",
       "        ... \n",
       "9995     536\n",
       "9996    4761\n",
       "9997    1872\n",
       "9998     660\n",
       "9999    3114\n",
       "Name: ingreso, Length: 10000, dtype: int32"
      ]
     },
     "execution_count": 30,
     "metadata": {},
     "output_type": "execute_result"
    }
   ],
   "source": [
    "#Seleccion de columnas\n",
    "#metodo del corchete\n",
    "df3['ingreso']\n"
   ]
  },
  {
   "cell_type": "code",
   "execution_count": 31,
   "metadata": {},
   "outputs": [
    {
     "data": {
      "text/plain": [
       "0       4320\n",
       "1       1358\n",
       "2       3500\n",
       "3       3895\n",
       "4        874\n",
       "        ... \n",
       "9995     536\n",
       "9996    4761\n",
       "9997    1872\n",
       "9998     660\n",
       "9999    3114\n",
       "Name: ingreso, Length: 10000, dtype: int32"
      ]
     },
     "execution_count": 31,
     "metadata": {},
     "output_type": "execute_result"
    }
   ],
   "source": [
    "#Metodo del punto\n",
    "df3.ingreso"
   ]
  },
  {
   "cell_type": "code",
   "execution_count": 33,
   "metadata": {},
   "outputs": [
    {
     "data": {
      "text/html": [
       "<div>\n",
       "<style scoped>\n",
       "    .dataframe tbody tr th:only-of-type {\n",
       "        vertical-align: middle;\n",
       "    }\n",
       "\n",
       "    .dataframe tbody tr th {\n",
       "        vertical-align: top;\n",
       "    }\n",
       "\n",
       "    .dataframe thead th {\n",
       "        text-align: right;\n",
       "    }\n",
       "</style>\n",
       "<table border=\"1\" class=\"dataframe\">\n",
       "  <thead>\n",
       "    <tr style=\"text-align: right;\">\n",
       "      <th></th>\n",
       "      <th>ingreso</th>\n",
       "      <th>genero</th>\n",
       "    </tr>\n",
       "  </thead>\n",
       "  <tbody>\n",
       "    <tr>\n",
       "      <th>0</th>\n",
       "      <td>4320</td>\n",
       "      <td>M</td>\n",
       "    </tr>\n",
       "    <tr>\n",
       "      <th>1</th>\n",
       "      <td>1358</td>\n",
       "      <td>F</td>\n",
       "    </tr>\n",
       "    <tr>\n",
       "      <th>2</th>\n",
       "      <td>3500</td>\n",
       "      <td>M</td>\n",
       "    </tr>\n",
       "    <tr>\n",
       "      <th>3</th>\n",
       "      <td>3895</td>\n",
       "      <td>F</td>\n",
       "    </tr>\n",
       "    <tr>\n",
       "      <th>4</th>\n",
       "      <td>874</td>\n",
       "      <td>M</td>\n",
       "    </tr>\n",
       "    <tr>\n",
       "      <th>...</th>\n",
       "      <td>...</td>\n",
       "      <td>...</td>\n",
       "    </tr>\n",
       "    <tr>\n",
       "      <th>9995</th>\n",
       "      <td>536</td>\n",
       "      <td>F</td>\n",
       "    </tr>\n",
       "    <tr>\n",
       "      <th>9996</th>\n",
       "      <td>4761</td>\n",
       "      <td>M</td>\n",
       "    </tr>\n",
       "    <tr>\n",
       "      <th>9997</th>\n",
       "      <td>1872</td>\n",
       "      <td>M</td>\n",
       "    </tr>\n",
       "    <tr>\n",
       "      <th>9998</th>\n",
       "      <td>660</td>\n",
       "      <td>M</td>\n",
       "    </tr>\n",
       "    <tr>\n",
       "      <th>9999</th>\n",
       "      <td>3114</td>\n",
       "      <td>F</td>\n",
       "    </tr>\n",
       "  </tbody>\n",
       "</table>\n",
       "<p>10000 rows × 2 columns</p>\n",
       "</div>"
      ],
      "text/plain": [
       "      ingreso genero\n",
       "0        4320      M\n",
       "1        1358      F\n",
       "2        3500      M\n",
       "3        3895      F\n",
       "4         874      M\n",
       "...       ...    ...\n",
       "9995      536      F\n",
       "9996     4761      M\n",
       "9997     1872      M\n",
       "9998      660      M\n",
       "9999     3114      F\n",
       "\n",
       "[10000 rows x 2 columns]"
      ]
     },
     "execution_count": 33,
     "metadata": {},
     "output_type": "execute_result"
    }
   ],
   "source": [
    "#Seleccionar mas de una columna\n",
    "df3[['ingreso','genero']]"
   ]
  },
  {
   "cell_type": "code",
   "execution_count": 35,
   "metadata": {},
   "outputs": [
    {
     "data": {
      "text/plain": [
       "(10000, 8)"
      ]
     },
     "execution_count": 35,
     "metadata": {},
     "output_type": "execute_result"
    }
   ],
   "source": [
    "#Atributos\n",
    "#dimensiones\n",
    "df3.shape "
   ]
  },
  {
   "cell_type": "code",
   "execution_count": 38,
   "metadata": {},
   "outputs": [
    {
     "data": {
      "text/plain": [
       "Int64Index([   0,    1,    2,    3,    4,    5,    6,    7,    8,    9,\n",
       "            ...\n",
       "            9990, 9991, 9992, 9993, 9994, 9995, 9996, 9997, 9998, 9999],\n",
       "           dtype='int64', length=10000)"
      ]
     },
     "execution_count": 38,
     "metadata": {},
     "output_type": "execute_result"
    }
   ],
   "source": [
    "#indices\n",
    "df3.index"
   ]
  },
  {
   "cell_type": "code",
   "execution_count": 39,
   "metadata": {},
   "outputs": [
    {
     "data": {
      "text/plain": [
       "Index(['nombre', 'ciudad', 'ingreso', 'edad', 'genero', 'nivel_educativo',\n",
       "       'pobreza', 'subsidio'],\n",
       "      dtype='object')"
      ]
     },
     "execution_count": 39,
     "metadata": {},
     "output_type": "execute_result"
    }
   ],
   "source": [
    "#columns\n",
    "df3.columns"
   ]
  },
  {
   "cell_type": "code",
   "execution_count": 40,
   "metadata": {},
   "outputs": [
    {
     "data": {
      "text/plain": [
       "nombre             object\n",
       "ciudad             object\n",
       "ingreso             int32\n",
       "edad                int32\n",
       "genero             object\n",
       "nivel_educativo    object\n",
       "pobreza             int32\n",
       "subsidio            int32\n",
       "dtype: object"
      ]
     },
     "execution_count": 40,
     "metadata": {},
     "output_type": "execute_result"
    }
   ],
   "source": [
    "#tipo de datos de cada columna\n",
    "df3.dtypes"
   ]
  },
  {
   "cell_type": "code",
   "execution_count": 42,
   "metadata": {},
   "outputs": [
    {
     "name": "stdout",
     "output_type": "stream",
     "text": [
      "<class 'pandas.core.frame.DataFrame'>\n",
      "Int64Index: 10000 entries, 0 to 9999\n",
      "Data columns (total 8 columns):\n",
      " #   Column           Non-Null Count  Dtype \n",
      "---  ------           --------------  ----- \n",
      " 0   nombre           10000 non-null  object\n",
      " 1   ciudad           10000 non-null  object\n",
      " 2   ingreso          10000 non-null  int32 \n",
      " 3   edad             10000 non-null  int32 \n",
      " 4   genero           10000 non-null  object\n",
      " 5   nivel_educativo  10000 non-null  object\n",
      " 6   pobreza          10000 non-null  int32 \n",
      " 7   subsidio         10000 non-null  int32 \n",
      "dtypes: int32(4), object(4)\n",
      "memory usage: 546.9+ KB\n"
     ]
    }
   ],
   "source": [
    "#Metodos\n",
    "df3.info()"
   ]
  },
  {
   "cell_type": "code",
   "execution_count": 43,
   "metadata": {},
   "outputs": [
    {
     "data": {
      "text/html": [
       "<div>\n",
       "<style scoped>\n",
       "    .dataframe tbody tr th:only-of-type {\n",
       "        vertical-align: middle;\n",
       "    }\n",
       "\n",
       "    .dataframe tbody tr th {\n",
       "        vertical-align: top;\n",
       "    }\n",
       "\n",
       "    .dataframe thead th {\n",
       "        text-align: right;\n",
       "    }\n",
       "</style>\n",
       "<table border=\"1\" class=\"dataframe\">\n",
       "  <thead>\n",
       "    <tr style=\"text-align: right;\">\n",
       "      <th></th>\n",
       "      <th>ingreso</th>\n",
       "      <th>edad</th>\n",
       "      <th>pobreza</th>\n",
       "      <th>subsidio</th>\n",
       "    </tr>\n",
       "  </thead>\n",
       "  <tbody>\n",
       "    <tr>\n",
       "      <th>count</th>\n",
       "      <td>10000.000000</td>\n",
       "      <td>10000.000000</td>\n",
       "      <td>10000.000000</td>\n",
       "      <td>10000.000000</td>\n",
       "    </tr>\n",
       "    <tr>\n",
       "      <th>mean</th>\n",
       "      <td>2740.953300</td>\n",
       "      <td>41.052500</td>\n",
       "      <td>0.501100</td>\n",
       "      <td>0.496300</td>\n",
       "    </tr>\n",
       "    <tr>\n",
       "      <th>std</th>\n",
       "      <td>1312.071423</td>\n",
       "      <td>13.560551</td>\n",
       "      <td>0.500024</td>\n",
       "      <td>0.500011</td>\n",
       "    </tr>\n",
       "    <tr>\n",
       "      <th>min</th>\n",
       "      <td>500.000000</td>\n",
       "      <td>18.000000</td>\n",
       "      <td>0.000000</td>\n",
       "      <td>0.000000</td>\n",
       "    </tr>\n",
       "    <tr>\n",
       "      <th>25%</th>\n",
       "      <td>1593.000000</td>\n",
       "      <td>29.000000</td>\n",
       "      <td>0.000000</td>\n",
       "      <td>0.000000</td>\n",
       "    </tr>\n",
       "    <tr>\n",
       "      <th>50%</th>\n",
       "      <td>2735.000000</td>\n",
       "      <td>41.000000</td>\n",
       "      <td>1.000000</td>\n",
       "      <td>0.000000</td>\n",
       "    </tr>\n",
       "    <tr>\n",
       "      <th>75%</th>\n",
       "      <td>3874.000000</td>\n",
       "      <td>53.000000</td>\n",
       "      <td>1.000000</td>\n",
       "      <td>1.000000</td>\n",
       "    </tr>\n",
       "    <tr>\n",
       "      <th>max</th>\n",
       "      <td>4999.000000</td>\n",
       "      <td>64.000000</td>\n",
       "      <td>1.000000</td>\n",
       "      <td>1.000000</td>\n",
       "    </tr>\n",
       "  </tbody>\n",
       "</table>\n",
       "</div>"
      ],
      "text/plain": [
       "            ingreso          edad       pobreza      subsidio\n",
       "count  10000.000000  10000.000000  10000.000000  10000.000000\n",
       "mean    2740.953300     41.052500      0.501100      0.496300\n",
       "std     1312.071423     13.560551      0.500024      0.500011\n",
       "min      500.000000     18.000000      0.000000      0.000000\n",
       "25%     1593.000000     29.000000      0.000000      0.000000\n",
       "50%     2735.000000     41.000000      1.000000      0.000000\n",
       "75%     3874.000000     53.000000      1.000000      1.000000\n",
       "max     4999.000000     64.000000      1.000000      1.000000"
      ]
     },
     "execution_count": 43,
     "metadata": {},
     "output_type": "execute_result"
    }
   ],
   "source": [
    "df3.describe()"
   ]
  },
  {
   "cell_type": "code",
   "execution_count": 44,
   "metadata": {},
   "outputs": [
    {
     "data": {
      "text/plain": [
       "10000"
      ]
     },
     "execution_count": 44,
     "metadata": {},
     "output_type": "execute_result"
    }
   ],
   "source": [
    "#Funciones\n",
    "#numero de filas\n",
    "len(df3)"
   ]
  },
  {
   "cell_type": "code",
   "execution_count": 50,
   "metadata": {},
   "outputs": [
    {
     "data": {
      "text/plain": [
       "9999"
      ]
     },
     "execution_count": 50,
     "metadata": {},
     "output_type": "execute_result"
    }
   ],
   "source": [
    "#maximo index\n",
    "max(df3.index)"
   ]
  },
  {
   "cell_type": "code",
   "execution_count": 51,
   "metadata": {},
   "outputs": [
    {
     "data": {
      "text/plain": [
       "0"
      ]
     },
     "execution_count": 51,
     "metadata": {},
     "output_type": "execute_result"
    }
   ],
   "source": [
    "#minimo index\n",
    "min(df3.index)"
   ]
  },
  {
   "cell_type": "code",
   "execution_count": 52,
   "metadata": {},
   "outputs": [
    {
     "data": {
      "text/plain": [
       "pandas.core.frame.DataFrame"
      ]
     },
     "execution_count": 52,
     "metadata": {},
     "output_type": "execute_result"
    }
   ],
   "source": [
    "#tipo de datos\n",
    "type(df3)"
   ]
  },
  {
   "cell_type": "code",
   "execution_count": 54,
   "metadata": {},
   "outputs": [
    {
     "data": {
      "text/plain": [
       "0       4320\n",
       "1       1358\n",
       "2       3500\n",
       "3       3895\n",
       "4        874\n",
       "        ... \n",
       "9995     536\n",
       "9996    4761\n",
       "9997    1872\n",
       "9998     660\n",
       "9999    3114\n",
       "Name: ingreso, Length: 10000, dtype: int32"
      ]
     },
     "execution_count": 54,
     "metadata": {},
     "output_type": "execute_result"
    }
   ],
   "source": [
    "round(df3['ingreso'],2)"
   ]
  }
 ],
 "metadata": {
  "kernelspec": {
   "display_name": "Python 3",
   "language": "python",
   "name": "python3"
  },
  "language_info": {
   "codemirror_mode": {
    "name": "ipython",
    "version": 3
   },
   "file_extension": ".py",
   "mimetype": "text/x-python",
   "name": "python",
   "nbconvert_exporter": "python",
   "pygments_lexer": "ipython3",
   "version": "3.9.6"
  },
  "orig_nbformat": 4
 },
 "nbformat": 4,
 "nbformat_minor": 2
}
