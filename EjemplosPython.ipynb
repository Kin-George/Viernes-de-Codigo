{
 "cells": [
  {
   "cell_type": "code",
   "execution_count": 1,
   "metadata": {},
   "outputs": [
    {
     "name": "stdout",
     "output_type": "stream",
     "text": [
      "La carpeta basesDeDatos se ha creado correctamente.\n"
     ]
    }
   ],
   "source": [
    "#Ejemplos comunes donde utilizar python es demasiado util\n",
    "import os \n",
    "# Aplicación\n",
    "carpeta = \"basesDeDatos\"\n",
    "ruta = \"C:/Users/jmthomas/Documents/VDC/\"+carpeta\n",
    "\n",
    "#Crear carpeta\n",
    "if not os.path.exists(ruta):\n",
    "    os.mkdir(ruta)\n",
    "    print(f\"La carpeta {carpeta} se ha creado correctamente.\")\n",
    "else:\n",
    "    print(f\"La carpeta {carpeta} no se ha creado.\")"
   ]
  },
  {
   "cell_type": "code",
   "execution_count": 1,
   "metadata": {},
   "outputs": [
    {
     "name": "stdout",
     "output_type": "stream",
     "text": [
      "La base de datos ha sido generada exitosamente.\n"
     ]
    }
   ],
   "source": [
    "#Crear una base de datos con datos aleatorios:\n",
    "import os\n",
    "import csv\n",
    "import random\n",
    "from faker import Faker\n",
    "\n",
    "# Configuración del faker\n",
    "faker = Faker()\n",
    "\n",
    "# Definición de los encabezados de las columnas\n",
    "headers = [\"Nombre\", \"Sexo\", \"Cargo\", \"Ingresos\", \"Ubicación\", \"Edad\"]\n",
    "\n",
    "# Generación de los datos aleatorios\n",
    "data = []\n",
    "for i in range(500000):\n",
    "    # Generación de datos aleatorios\n",
    "    nombre = faker.name()\n",
    "    sexo = random.choice([\"M\", \"F\"])\n",
    "    cargo = faker.job()\n",
    "    ubicacion = faker.city()\n",
    "    edad = random.randint(18, 65)\n",
    "    if sexo == \"M\":\n",
    "        ingresos=round(random.uniform(20000, 80000), 2)\n",
    "    else:\n",
    "        ingresos = round(random.uniform(30000, 100000), 2)\n",
    "\n",
    "    # Agregamos los datos a la lista\n",
    "    data.append([nombre, sexo, cargo, ingresos, ubicacion, edad])\n",
    "\n",
    "#Seleccionar carpeta\n",
    "carpeta = \"BasesDeDatos\"\n",
    "\n",
    "# Escritura de los datos en el archivo CSV\n",
    "archivo = os.path.join(carpeta, \"BasesDeDatos.csv\")\n",
    "with open(archivo, mode=\"w\", newline=\"\") as file:\n",
    "    writer = csv.writer(file, delimiter=\",\")\n",
    "    writer.writerow(headers)\n",
    "    for row in data:\n",
    "        writer.writerow(row)\n",
    "print(\"La base de datos ha sido generada exitosamente.\")"
   ]
  },
  {
   "cell_type": "code",
   "execution_count": 2,
   "metadata": {},
   "outputs": [
    {
     "data": {
      "image/png": "[encoded data removed]",
      "text/plain": [
       "<Figure size 640x480 with 1 Axes>"
      ]
     },
     "metadata": {},
     "output_type": "display_data"
    }
   ],
   "source": [
    "import pandas as pd\n",
    "import seaborn as sns\n",
    "import os\n",
    "import matplotlib.pyplot as plt\n",
    "\n",
    "# Leer la base de datos\n",
    "archivo = os.path.join(\"basesDeDatos\", \"BasesDeDatos.csv\")\n",
    "df = pd.read_csv(archivo, encoding=\"ISO-8859-1\")\n",
    "\n",
    "# Calcular la media de ingresos por sexo\n",
    "ingresos_por_sexo = df.groupby(\"Sexo\")[\"Ingresos\"].mean()\n",
    "\n",
    "# Crear la gráfica\n",
    "sns.set_style(\"whitegrid\")\n",
    "sns.barplot(x=ingresos_por_sexo.index, y=ingresos_por_sexo.values)\n",
    "sns.despine(left=True, bottom=True)\n",
    "sns.set(rc={'figure.figsize':(6,6)})\n",
    "sns.set_context(\"talk\", font_scale=0.8)\n",
    "sns.set_palette(\"pastel\")\n",
    "\n",
    "# Agregar título y etiquetas\n",
    "plt.title(\"Distribución de ingresos por sexo\")\n",
    "plt.xlabel(\"Sexo\")\n",
    "plt.ylabel(\"Ingresos promedio\")\n",
    "\n",
    "# Guardar la imagen en la carpeta\n",
    "carpeta = \"basesDeDatos\"\n",
    "nombre_archivo = \"distribucion_ingresos.png\"\n",
    "ruta_archivo = os.path.join(carpeta, nombre_archivo)\n",
    "plt.savefig(ruta_archivo, dpi=300)\n",
    "\n",
    "# Mostrar la gráfica\n",
    "plt.show()\n"
   ]
  },
  {
   "cell_type": "code",
   "execution_count": 1,
   "metadata": {},
   "outputs": [
    {
     "name": "stdout",
     "output_type": "stream",
     "text": [
      "                            OLS Regression Results                            \n",
      "==============================================================================\n",
      "Dep. Variable:               Ingresos   R-squared:                       0.137\n",
      "Model:                            OLS   Adj. R-squared:                  0.137\n",
      "Method:                 Least Squares   F-statistic:                 7.948e+04\n",
      "Date:                Fri, 03 Mar 2023   Prob (F-statistic):               0.00\n",
      "Time:                        11:06:19   Log-Likelihood:            -5.6308e+06\n",
      "No. Observations:              500000   AIC:                         1.126e+07\n",
      "Df Residuals:                  499998   BIC:                         1.126e+07\n",
      "Df Model:                           1                                         \n",
      "Covariance Type:            nonrobust                                         \n",
      "==============================================================================\n",
      "                 coef    std err          t      P>|t|      [0.025      0.975]\n",
      "------------------------------------------------------------------------------\n",
      "const       6.498e+04     37.628   1726.959      0.000    6.49e+04    6.51e+04\n",
      "Sexo_cod   -1.501e+04     53.226   -281.915      0.000   -1.51e+04   -1.49e+04\n",
      "==============================================================================\n",
      "Omnibus:                   309833.573   Durbin-Watson:                   2.000\n",
      "Prob(Omnibus):                  0.000   Jarque-Bera (JB):            27909.389\n",
      "Skew:                           0.004   Prob(JB):                         0.00\n",
      "Kurtosis:                       1.843   Cond. No.                         2.62\n",
      "==============================================================================\n",
      "\n",
      "Notes:\n",
      "[1] Standard Errors assume that the covariance matrix of the errors is correctly specified.\n"
     ]
    }
   ],
   "source": [
    "import pandas as pd\n",
    "import statsmodels.api as sm\n",
    "import os\n",
    "\n",
    "# Leer la base de datos\n",
    "archivo = os.path.join(\"basesDeDatos\", \"BasesDeDatos.csv\")\n",
    "df = pd.read_csv(archivo, encoding=\"ISO-8859-1\")\n",
    "\n",
    "# Codificar la variable categórica Sexo\n",
    "df[\"Sexo_cod\"] = pd.Categorical(df[\"Sexo\"]).codes\n",
    "\n",
    "# Definir las variables independiente y dependiente\n",
    "X = df[[\"Sexo_cod\"]]\n",
    "Y = df[\"Ingresos\"]\n",
    "\n",
    "# Añadir una columna de unos para la constante\n",
    "X = sm.add_constant(X)\n",
    "\n",
    "# Crear el modelo de regresión lineal\n",
    "modelo = sm.OLS(Y, X).fit()\n",
    "\n",
    "# Imprimir el resumen del modelo\n",
    "print(modelo.summary())\n"
   ]
  },
  {
   "cell_type": "code",
   "execution_count": 2,
   "metadata": {},
   "outputs": [
    {
     "name": "stdout",
     "output_type": "stream",
     "text": [
      "Ubicación     Sexo\n",
      "Aaronberg     F       60665.292308\n",
      "              M       55703.165000\n",
      "Aaronborough  F       59036.267500\n",
      "              M       44948.830000\n",
      "Aaronburgh    F       60214.276154\n",
      "                          ...     \n",
      "Zunigatown    F       49258.020000\n",
      "              M       53225.833333\n",
      "Zunigaview    F       62857.925000\n",
      "Zunigaville   F       89536.660000\n",
      "              M       46586.865000\n",
      "Name: Ingresos, Length: 118372, dtype: float64\n"
     ]
    }
   ],
   "source": [
    "import pandas as pd\n",
    "\n",
    "# Leer el archivo CSV generado anteriormente\n",
    "data = pd.read_csv(\"./basesDeDatos/BasesDeDatos.csv\", encoding=\"ISO-8859-1\")\n",
    "\n",
    "# Calcular el promedio de ingresos para hombres y mujeres por ubicación\n",
    "mean_by_sex_location = data.groupby([\"Ubicación\", \"Sexo\"])[\"Ingresos\"].mean()\n",
    "\n",
    "# Mostrar los resultados\n",
    "print(mean_by_sex_location)"
   ]
  },
  {
   "cell_type": "code",
   "execution_count": 3,
   "metadata": {},
   "outputs": [],
   "source": [
    "import csv\n",
    "import random\n",
    "from datetime import datetime, timedelta\n",
    "\n",
    "# Crear una lista de fechas que cubra 10 años\n",
    "inicio = datetime(2012, 1, 1)\n",
    "fechas = [inicio + timedelta(days=d) for d in range(3652)]\n",
    "\n",
    "# Generar datos aleatorios para el precio de la acción\n",
    "precio_actual = 100.0\n",
    "volatilidad_diaria = 0.01\n",
    "precio_min = 50.0\n",
    "precio_max = 150.0\n",
    "\n",
    "# Escribir los datos en un archivo CSV\n",
    "with open(\"acciones.csv\", \"w\", newline=\"\") as archivo:\n",
    "    escritor_csv = csv.writer(archivo)\n",
    "\n",
    "    # Escribir el encabezado del archivo CSV\n",
    "    escritor_csv.writerow([\"Fecha\", \"Precio\"])\n",
    "\n",
    "    # Generar los datos aleatorios para cada día y escribirlos en el archivo CSV\n",
    "    for fecha in fechas:\n",
    "        precio_actual *= 1.0 + random.uniform(-volatilidad_diaria, volatilidad_diaria)\n",
    "        precio_actual = max(precio_actual, precio_min)\n",
    "        precio_actual = min(precio_actual, precio_max)\n",
    "        escritor_csv.writerow([fecha.strftime(\"%Y-%m-%d\"), precio_actual])"
   ]
  },
  {
   "cell_type": "code",
   "execution_count": 4,
   "metadata": {},
   "outputs": [
    {
     "data": {
      "image/png": "[encoded data removed]",
      "text/plain": [
       "<Figure size 640x480 with 1 Axes>"
      ]
     },
     "metadata": {},
     "output_type": "display_data"
    }
   ],
   "source": [
    "import matplotlib.pyplot as plt\n",
    "import matplotlib.animation as animation\n",
    "import pandas as pd\n",
    "\n",
    "# Leer los datos del archivo CSV\n",
    "datos = pd.read_csv(\"acciones.csv\", parse_dates=[\"Fecha\"])\n",
    "\n",
    "# Crear la figura y el eje\n",
    "fig, ax = plt.subplots()\n",
    "\n",
    "# Función que actualiza la gráfica en cada frame de la animación\n",
    "def actualizar(frame):\n",
    "    datos_frame = datos[:frame]\n",
    "    ax.clear()\n",
    "    ax.plot(datos_frame[\"Fecha\"], datos_frame[\"Precio\"])\n",
    "    ax.set_title(\"Precio de la acción\")\n",
    "\n",
    "# Crear la animación y guardarla en un archivo GIF\n",
    "animacion = animation.FuncAnimation(fig, actualizar, frames=len(datos), interval=50)\n",
    "animacion.save(\"accion.gif\", writer=\"pillow\")\n"
   ]
  },
  {
   "cell_type": "code",
   "execution_count": 6,
   "metadata": {},
   "outputs": [],
   "source": [
    "import csv\n",
    "\n",
    "for mes in range(1, 11):\n",
    "    # Crear nombre de archivo en formato \"mes.csv\"\n",
    "    nombre_archivo = f\"{mes}.csv\"\n",
    "\n",
    "    # Crear datos aleatorios para cada fila\n",
    "    filas = []\n",
    "    for i in range(5000):\n",
    "        ingresos = random.randint(1000, 5000)\n",
    "        num_personas = random.randint(1, 5)\n",
    "        filas.append([ingresos, num_personas])\n",
    "\n",
    "    # Escribir filas al archivo CSV\n",
    "    with open(nombre_archivo, \"w\", newline=\"\") as archivo:\n",
    "        writer = csv.writer(archivo)\n",
    "        writer.writerows(filas)\n",
    "\n",
    "import os\n",
    "\n",
    "nombres_meses = [\"Enero\", \"Febrero\", \"Marzo\", \"Abril\", \"Mayo\", \"Junio\", \"Julio\", \"Agosto\", \"Septiembre\", \"Octubre\"]\n",
    "\n",
    "for mes in range(1, 11):\n",
    "    # Crear nombre de archivo en formato \"mes.csv\"\n",
    "    nombre_antiguo = f\"{mes}.csv\"\n",
    "    nombre_nuevo = f\"{nombres_meses[mes-1]}.csv\"\n",
    "\n",
    "    # Renombrar el archivo\n",
    "    os.rename(nombre_antiguo, nombre_nuevo)\n"
   ]
  },
  {
   "cell_type": "code",
   "execution_count": 7,
   "metadata": {},
   "outputs": [],
   "source": [
    "import csv\n",
    "import os\n",
    "\n",
    "nombres_meses = [\"Enero\", \"Febrero\", \"Marzo\", \"Abril\", \"Mayo\", \"Junio\", \"Julio\", \"Agosto\", \"Septiembre\", \"Octubre\"]\n",
    "\n",
    "# Lista para almacenar todos los datos consolidados\n",
    "datos_consolidados = []\n",
    "\n",
    "for mes in range(1, 11):\n",
    "    # Abrir archivo CSV correspondiente al mes\n",
    "    nombre_archivo = f\"{nombres_meses[mes-1]}.csv\"\n",
    "    with open(nombre_archivo, \"r\") as archivo:\n",
    "        reader = csv.reader(archivo)\n",
    "        next(reader)  # Saltear la primera fila con los encabezados\n",
    "        for fila in reader:\n",
    "            # Calcular ingreso per cápita y agregar fila a lista de datos consolidados\n",
    "            ingresos = int(fila[0])\n",
    "            num_personas = int(fila[1])\n",
    "            ingreso_per_capita = ingresos / num_personas\n",
    "            datos_consolidados.append([nombres_meses[mes-1], ingresos, num_personas, ingreso_per_capita])\n",
    "\n",
    "# Escribir datos consolidados en archivo CSV\n",
    "with open(\"consolidado.csv\", \"w\", newline=\"\") as archivo:\n",
    "    writer = csv.writer(archivo)\n",
    "    writer.writerow([\"Mes\", \"Ingresos\", \"Num. Personas\", \"Ingreso Per Cápita\"])  # Encabezados\n",
    "    writer.writerows(datos_consolidados)"
   ]
  }
 ],
 "metadata": {
  "kernelspec": {
   "display_name": "Python 3",
   "language": "python",
   "name": "python3"
  },
  "language_info": {
   "codemirror_mode": {
    "name": "ipython",
    "version": 3
   },
   "file_extension": ".py",
   "mimetype": "text/x-python",
   "name": "python",
   "nbconvert_exporter": "python",
   "pygments_lexer": "ipython3",
   "version": "3.11.1"
  },
  "orig_nbformat": 4,
  "vscode": {
   "interpreter": {
    "hash": "8fd212a00cf6b55eb13a56370935f7f0b5686f2331a96e03cb628d31e0c98164"
   }
  }
 },
 "nbformat": 4,
 "nbformat_minor": 2
}
