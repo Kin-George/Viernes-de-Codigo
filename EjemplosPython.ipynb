{
 "cells": [
  {
   "cell_type": "code",
   "execution_count": 1,
   "metadata": {},
   "outputs": [
    {
     "name": "stdout",
     "output_type": "stream",
     "text": [
      "La carpeta basesDeDatos se ha creado correctamente.\n"
     ]
    }
   ],
   "source": [
    "#Ejemplos comunes donde utilizar python es demasiado util\n",
    "import os \n",
    "# Aplicación\n",
    "carpeta = \"basesDeDatos\"\n",
    "ruta = \"C:/Users/Janus/Documents/Jorge_uni/trabajo/Clases_Python/\"+carpeta\n",
    "\n",
    "#Crear carpeta\n",
    "if not os.path.exists(ruta):\n",
    "    os.mkdir(ruta)\n",
    "    print(f\"La carpeta {carpeta} se ha creado correctamente.\")\n",
    "else:\n",
    "    print(f\"La carpeta {carpeta} no se ha creado.\")"
   ]
  },
  {
   "cell_type": "code",
   "execution_count": 11,
   "metadata": {},
   "outputs": [
    {
     "name": "stdout",
     "output_type": "stream",
     "text": [
      "La base de datos ha sido generada exitosamente.\n"
     ]
    }
   ],
   "source": [
    "#Crear una base de datos con datos aleatorios:\n",
    "import csv\n",
    "import random\n",
    "from faker import Faker\n",
    "\n",
    "# Configuración del faker\n",
    "faker = Faker()\n",
    "\n",
    "# Definición de los encabezados de las columnas\n",
    "headers = [\"Nombre\", \"Sexo\", \"Cargo\", \"Ingresos\", \"Ubicación\", \"Edad\"]\n",
    "\n",
    "# Generación de los datos aleatorios\n",
    "data = []\n",
    "for i in range(500000):\n",
    "    # Generación de datos aleatorios\n",
    "    nombre = faker.name()\n",
    "    sexo = random.choice([\"M\", \"F\"])\n",
    "    cargo = faker.job()\n",
    "    ubicacion = faker.city()\n",
    "    edad = random.randint(18, 65)\n",
    "    if sexo == \"M\":\n",
    "        ingresos=round(random.uniform(20000, 80000), 2)\n",
    "    else:\n",
    "        ingresos = round(random.uniform(30000, 100000), 2)\n",
    "\n",
    "    # Agregamos los datos a la lista\n",
    "    data.append([nombre, sexo, cargo, ingresos, ubicacion, edad])\n",
    "\n",
    "#Seleccionar carpeta\n",
    "carpeta = \"BasesDeDatos\"\n",
    "\n",
    "# Escritura de los datos en el archivo CSV\n",
    "archivo = os.path.join(carpeta, \"BasesDeDatos.csv\")\n",
    "with open(archivo, mode=\"w\", newline=\"\") as file:\n",
    "    writer = csv.writer(file, delimiter=\",\")\n",
    "    writer.writerow(headers)\n",
    "    for row in data:\n",
    "        writer.writerow(row)\n",
    "print(\"La base de datos ha sido generada exitosamente.\")"
   ]
  },
  {
   "cell_type": "code",
   "execution_count": 12,
   "metadata": {},
   "outputs": [
    {
     "data": {
      "image/png": "[encoded data removed]",
      "text/plain": [
       "<Figure size 600x600 with 1 Axes>"
      ]
     },
     "metadata": {},
     "output_type": "display_data"
    }
   ],
   "source": [
    "import pandas as pd\n",
    "import seaborn as sns\n",
    "import os\n",
    "import matplotlib.pyplot as plt\n",
    "\n",
    "# Leer la base de datos\n",
    "archivo = os.path.join(\"basesDeDatos\", \"BasesDeDatos.csv\")\n",
    "df = pd.read_csv(archivo, encoding=\"ISO-8859-1\")\n",
    "\n",
    "# Calcular la media de ingresos por sexo\n",
    "ingresos_por_sexo = df.groupby(\"Sexo\")[\"Ingresos\"].mean()\n",
    "\n",
    "# Crear la gráfica\n",
    "sns.set_style(\"whitegrid\")\n",
    "sns.barplot(x=ingresos_por_sexo.index, y=ingresos_por_sexo.values)\n",
    "sns.despine(left=True, bottom=True)\n",
    "sns.set(rc={'figure.figsize':(6,6)})\n",
    "sns.set_context(\"talk\", font_scale=0.8)\n",
    "sns.set_palette(\"pastel\")\n",
    "\n",
    "# Agregar título y etiquetas\n",
    "plt.title(\"Distribución de ingresos por sexo\")\n",
    "plt.xlabel(\"Sexo\")\n",
    "plt.ylabel(\"Ingresos promedio\")\n",
    "\n",
    "# Guardar la imagen en la carpeta\n",
    "carpeta = \"basesDeDatos\"\n",
    "nombre_archivo = \"distribucion_ingresos.png\"\n",
    "ruta_archivo = os.path.join(carpeta, nombre_archivo)\n",
    "plt.savefig(ruta_archivo, dpi=300)\n",
    "\n",
    "# Mostrar la gráfica\n",
    "plt.show()\n"
   ]
  },
  {
   "cell_type": "code",
   "execution_count": 13,
   "metadata": {},
   "outputs": [
    {
     "name": "stdout",
     "output_type": "stream",
     "text": [
      "                            OLS Regression Results                            \n",
      "==============================================================================\n",
      "Dep. Variable:               Ingresos   R-squared:                       0.138\n",
      "Model:                            OLS   Adj. R-squared:                  0.138\n",
      "Method:                 Least Squares   F-statistic:                 7.973e+04\n",
      "Date:                Thu, 02 Mar 2023   Prob (F-statistic):               0.00\n",
      "Time:                        16:24:40   Log-Likelihood:            -5.6307e+06\n",
      "No. Observations:              500000   AIC:                         1.126e+07\n",
      "Df Residuals:                  499998   BIC:                         1.126e+07\n",
      "Df Model:                           1                                         \n",
      "Covariance Type:            nonrobust                                         \n",
      "==============================================================================\n",
      "                 coef    std err          t      P>|t|      [0.025      0.975]\n",
      "------------------------------------------------------------------------------\n",
      "const         6.5e+04     37.553   1730.866      0.000    6.49e+04    6.51e+04\n",
      "Sexo_cod   -1.503e+04     53.218   -282.366      0.000   -1.51e+04   -1.49e+04\n",
      "==============================================================================\n",
      "Omnibus:                   304610.396   Durbin-Watson:                   2.001\n",
      "Prob(Omnibus):                  0.000   Jarque-Bera (JB):            27801.400\n",
      "Skew:                           0.000   Prob(JB):                         0.00\n",
      "Kurtosis:                       1.845   Cond. No.                         2.61\n",
      "==============================================================================\n",
      "\n",
      "Notes:\n",
      "[1] Standard Errors assume that the covariance matrix of the errors is correctly specified.\n"
     ]
    }
   ],
   "source": [
    "import pandas as pd\n",
    "import statsmodels.api as sm\n",
    "import os\n",
    "\n",
    "# Leer la base de datos\n",
    "archivo = os.path.join(\"basesDeDatos\", \"BasesDeDatos.csv\")\n",
    "df = pd.read_csv(archivo, encoding=\"ISO-8859-1\")\n",
    "\n",
    "# Codificar la variable categórica Sexo\n",
    "df[\"Sexo_cod\"] = pd.Categorical(df[\"Sexo\"]).codes\n",
    "\n",
    "# Definir las variables independiente y dependiente\n",
    "X = df[[\"Sexo_cod\"]]\n",
    "Y = df[\"Ingresos\"]\n",
    "\n",
    "# Añadir una columna de unos para la constante\n",
    "X = sm.add_constant(X)\n",
    "\n",
    "# Crear el modelo de regresión lineal\n",
    "modelo = sm.OLS(Y, X).fit()\n",
    "\n",
    "# Imprimir el resumen del modelo\n",
    "print(modelo.summary())\n"
   ]
  },
  {
   "cell_type": "code",
   "execution_count": 4,
   "metadata": {},
   "outputs": [
    {
     "name": "stdout",
     "output_type": "stream",
     "text": [
      "Ubicación     Sexo\n",
      "Aaronberg     F       81372.753333\n",
      "              M       57218.906250\n",
      "Aaronborough  F       56797.409286\n",
      "              M       50689.971000\n",
      "Aaronburgh    F       61627.791579\n",
      "                          ...     \n",
      "Zunigaside    M       47509.710000\n",
      "Zunigastad    M       42939.300000\n",
      "Zunigaton     F       31243.670000\n",
      "Zunigatown    F       79640.010000\n",
      "Zunigaview    M       49390.230000\n",
      "Name: Ingresos, Length: 118605, dtype: float64\n"
     ]
    }
   ],
   "source": [
    "import pandas as pd\n",
    "\n",
    "# Leer el archivo CSV generado anteriormente\n",
    "data = pd.read_csv(\"./basesDeDatos/BasesDeDatos.csv\", encoding=\"ISO-8859-1\")\n",
    "\n",
    "# Calcular el promedio de ingresos para hombres y mujeres por ubicación\n",
    "mean_by_sex_location = data.groupby([\"Ubicación\", \"Sexo\"])[\"Ingresos\"].mean()\n",
    "\n",
    "# Mostrar los resultados\n",
    "print(mean_by_sex_location)"
   ]
  },
  {
   "cell_type": "code",
   "execution_count": 9,
   "metadata": {},
   "outputs": [],
   "source": [
    "import csv\n",
    "import random\n",
    "from datetime import datetime, timedelta\n",
    "\n",
    "# Crear una lista de fechas que cubra 10 años\n",
    "inicio = datetime(2012, 1, 1)\n",
    "fechas = [inicio + timedelta(days=d) for d in range(3652)]\n",
    "\n",
    "# Generar datos aleatorios para el precio de la acción\n",
    "precio_actual = 100.0\n",
    "volatilidad_diaria = 0.01\n",
    "precio_min = 50.0\n",
    "precio_max = 150.0\n",
    "\n",
    "# Escribir los datos en un archivo CSV\n",
    "with open(\"acciones.csv\", \"w\", newline=\"\") as archivo:\n",
    "    escritor_csv = csv.writer(archivo)\n",
    "\n",
    "    # Escribir el encabezado del archivo CSV\n",
    "    escritor_csv.writerow([\"Fecha\", \"Precio\"])\n",
    "\n",
    "    # Generar los datos aleatorios para cada día y escribirlos en el archivo CSV\n",
    "    for fecha in fechas:\n",
    "        precio_actual *= 1.0 + random.uniform(-volatilidad_diaria, volatilidad_diaria)\n",
    "        precio_actual = max(precio_actual, precio_min)\n",
    "        precio_actual = min(precio_actual, precio_max)\n",
    "        escritor_csv.writerow([fecha.strftime(\"%Y-%m-%d\"), precio_actual])"
   ]
  },
  {
   "cell_type": "code",
   "execution_count": 10,
   "metadata": {},
   "outputs": [
    {
     "data": {
      "image/png": "[encoded data removed]",
      "text/plain": [
       "<Figure size 640x480 with 1 Axes>"
      ]
     },
     "metadata": {},
     "output_type": "display_data"
    }
   ],
   "source": [
    "import matplotlib.pyplot as plt\n",
    "import matplotlib.animation as animation\n",
    "import pandas as pd\n",
    "\n",
    "# Leer los datos del archivo CSV\n",
    "datos = pd.read_csv(\"acciones.csv\", parse_dates=[\"Fecha\"])\n",
    "\n",
    "# Crear la figura y el eje\n",
    "fig, ax = plt.subplots()\n",
    "\n",
    "# Función que actualiza la gráfica en cada frame de la animación\n",
    "def actualizar(frame):\n",
    "    datos_frame = datos[:frame]\n",
    "    ax.clear()\n",
    "    ax.plot(datos_frame[\"Fecha\"], datos_frame[\"Precio\"])\n",
    "    ax.set_title(\"Precio de la acción\")\n",
    "\n",
    "# Crear la animación y guardarla en un archivo GIF\n",
    "animacion = animation.FuncAnimation(fig, actualizar, frames=len(datos), interval=50)\n",
    "animacion.save(\"accion.gif\", writer=\"pillow\")\n"
   ]
  }
 ],
 "metadata": {
  "kernelspec": {
   "display_name": "Python 3",
   "language": "python",
   "name": "python3"
  },
  "language_info": {
   "codemirror_mode": {
    "name": "ipython",
    "version": 3
   },
   "file_extension": ".py",
   "mimetype": "text/x-python",
   "name": "python",
   "nbconvert_exporter": "python",
   "pygments_lexer": "ipython3",
   "version": "3.9.6"
  },
  "orig_nbformat": 4
 },
 "nbformat": 4,
 "nbformat_minor": 2
}
